{
 "cells": [
  {
   "metadata": {},
   "cell_type": "markdown",
   "source": "_**Results for MIMIC-III semi-synthetic dataset**_",
   "id": "30f2752579a396e9"
  },
  {
   "metadata": {
    "ExecuteTime": {
     "end_time": "2024-10-01T15:22:03.885920Z",
     "start_time": "2024-10-01T15:22:02.307293Z"
    }
   },
   "cell_type": "code",
   "source": [
    "import mlflow\n",
    "from mlflow.tracking import MlflowClient\n",
    "import pandas as pd\n",
    "import numpy as np"
   ],
   "id": "initial_id",
   "outputs": [],
   "execution_count": 1
  },
  {
   "metadata": {},
   "cell_type": "markdown",
   "source": "**1) Set up client**",
   "id": "385ff5eb6946ed24"
  },
  {
   "metadata": {
    "ExecuteTime": {
     "end_time": "2024-10-01T15:22:03.891946Z",
     "start_time": "2024-10-01T15:22:03.886922Z"
    }
   },
   "cell_type": "code",
   "source": [
    "mlflow.set_tracking_uri('http://localhost:3335')\n",
    "client = MlflowClient()"
   ],
   "id": "f43faa6ffd34b516",
   "outputs": [],
   "execution_count": 2
  },
  {
   "metadata": {},
   "cell_type": "markdown",
   "source": "**2) List experiments**",
   "id": "3bfb5b447c84178a"
  },
  {
   "metadata": {
    "ExecuteTime": {
     "end_time": "2024-10-01T15:22:03.976497Z",
     "start_time": "2024-10-01T15:22:03.892949Z"
    }
   },
   "cell_type": "code",
   "source": [
    "model_names = ['SCIP', 'CIP', 'CT', 'CRN', 'TECDE', 'RMSN', 'G-Net']\n",
    "experiment_names = [model_name + '/mimic3_synthetic_FINAL' for model_name in model_names]\n",
    "experiments = {exp.name: exp.experiment_id for exp in client.search_experiments()}"
   ],
   "id": "ae97b3bfd9c6bd33",
   "outputs": [],
   "execution_count": 3
  },
  {
   "metadata": {},
   "cell_type": "markdown",
   "source": "**3) Access all runs within each experiment and extract metrics + params**",
   "id": "27b55ef32eca858a"
  },
  {
   "metadata": {
    "ExecuteTime": {
     "end_time": "2024-10-01T15:22:04.734756Z",
     "start_time": "2024-10-01T15:22:03.977497Z"
    }
   },
   "cell_type": "code",
   "source": [
    "metric_names = ['encoder_test_rmse_all',\n",
    "                'decoder_test_rmse_2-step',\n",
    "                'decoder_test_rmse_3-step']\n",
    "\n",
    "param_names = ['model/name', 'dataset/max_number', 'dataset/seed']\n",
    "data_dict = {}\n",
    "\n",
    "for experiment_name in experiment_names:\n",
    "    if experiment_name in experiments:\n",
    "        experiment_id = experiments[experiment_name]\n",
    "        # Get all runs for the experiment\n",
    "        runs = client.search_runs(experiment_ids=[experiment_id])\n",
    "        # Extract metrics and parameters\n",
    "        runs_data = [\n",
    "            {\n",
    "                **run.data.metrics,\n",
    "                **run.data.params,\n",
    "                'run_id': run.info.run_id\n",
    "            }\n",
    "            for run in runs\n",
    "        ]\n",
    "        combined_df = pd.DataFrame(runs_data)\n",
    "        \n",
    "        if not combined_df.empty:\n",
    "            # Filter the DataFrame to only include the desired metrics and parameters\n",
    "            columns_to_include = ['run_id'] + metric_names + param_names\n",
    "            filtered_df = combined_df[columns_to_include]\n",
    "            data_dict[experiment_name.split(\"/\")[0]] = filtered_df\n",
    "        else:\n",
    "            print(f\"No runs found for experiment {experiment_name}.\")\n",
    "    else:\n",
    "        print(f\"Experiment {experiment_name} does not exist.\")\n",
    "\n",
    "for model in model_names:\n",
    "    data_dict[model] = data_dict[model].rename(columns={'encoder_test_rmse_all': '1',\n",
    "                                                        'decoder_test_rmse_2-step': '2',\n",
    "                                                        'decoder_test_rmse_3-step': '3',\n",
    "                                                        'dataset/max_number': 'N'})"
   ],
   "id": "287cef8dcbdba6fd",
   "outputs": [],
   "execution_count": 4
  },
  {
   "metadata": {},
   "cell_type": "markdown",
   "source": "**4) Compute mean and std of RMSEs per model and sample size**",
   "id": "7c6114b8cff1523b"
  },
  {
   "metadata": {
    "ExecuteTime": {
     "end_time": "2024-10-01T15:22:04.767717Z",
     "start_time": "2024-10-01T15:22:04.736761Z"
    }
   },
   "cell_type": "code",
   "source": [
    "SCIP_mean_rmse = data_dict['SCIP'].groupby('N')[['1', '2', '3']].mean()\n",
    "SCIP_mean_rmse['model'] = 'SCIP'\n",
    "SCIP_std_rmse = data_dict['SCIP'].groupby('N')[['1', '2', '3']].std()\n",
    "SCIP_std_rmse['model'] = 'SCIP'\n",
    "\n",
    "CIP_mean_rmse = data_dict['CIP'].groupby('N')[['1', '2', '3']].mean()\n",
    "CIP_mean_rmse['model'] = 'CIP'\n",
    "CIP_std_rmse = data_dict['CIP'].groupby('N')[['1', '2', '3']].std()\n",
    "CIP_std_rmse['model'] = 'CIP'\n",
    "\n",
    "GNet_mean_rmse = data_dict['G-Net'].groupby('N')[['1', '2', '3']].mean()\n",
    "GNet_mean_rmse['model'] = 'G-Net'\n",
    "GNet_std_rmse = data_dict['G-Net'].groupby('N')[['1', '2', '3']].std()\n",
    "GNet_std_rmse['model'] = 'G-Net'\n",
    "\n",
    "RMSN_mean_rmse = data_dict['RMSN'].groupby('N')[['1', '2', '3']].mean()\n",
    "RMSN_mean_rmse['model'] = 'RMSN'\n",
    "RMSN_std_rmse = data_dict['RMSN'].groupby('N')[['1', '2', '3']].std()\n",
    "RMSN_std_rmse['model'] = 'RMSN'\n",
    "\n",
    "CT_mean_rmse = data_dict['CT'].groupby('N')[['1', '2', '3']].mean()\n",
    "CT_mean_rmse['model'] = 'CT'\n",
    "CT_std_rmse = data_dict['CT'].groupby('N')[['1', '2', '3']].std()\n",
    "CT_std_rmse['model'] = 'CT'\n",
    "\n",
    "CRN_mean_rmse = data_dict['CRN'].groupby('N')[['1', '2', '3']].mean()\n",
    "CRN_mean_rmse['model'] = 'CRN'\n",
    "CRN_std_rmse = data_dict['CRN'].groupby('N')[['1', '2', '3']].std()\n",
    "CRN_std_rmse['model'] = 'CRN'\n",
    "\n",
    "TECDE_mean_rmse = data_dict['TECDE'].groupby('N')[['1', '2', '3']].mean()\n",
    "TECDE_mean_rmse['model'] = 'TECDE'\n",
    "TECDE_std_rmse = data_dict['TECDE'].groupby('N')[['1', '2', '3']].std()\n",
    "TECDE_std_rmse['model'] = 'TECDE'\n",
    "\n",
    "mean_rmse = pd.concat([SCIP_mean_rmse, CIP_mean_rmse, GNet_mean_rmse, RMSN_mean_rmse, CT_mean_rmse, CRN_mean_rmse, TECDE_mean_rmse], axis=0).reset_index()\n",
    "std_rmse = pd.concat([SCIP_std_rmse, CIP_std_rmse, GNet_std_rmse, RMSN_std_rmse, CT_std_rmse, CRN_std_rmse, TECDE_std_rmse], axis=0).reset_index()\n",
    "\n",
    "mean_rmse = mean_rmse.melt(id_vars=['N', 'model'], value_vars=['1', '2', '3'], var_name='tau', value_name='mean_rmse')\n",
    "mean_rmse['N'] = mean_rmse['N'].astype(int)\n",
    "mean_rmse['tau'] = mean_rmse['tau'].astype(int)\n",
    "std_rmse = std_rmse.melt(id_vars=['N', 'model'], value_vars=['1', '2', '3'], var_name='tau', value_name='std_rmse')\n",
    "std_rmse['N'] = std_rmse['N'].astype(int)\n",
    "std_rmse['tau'] = std_rmse['tau'].astype(int)"
   ],
   "id": "cd9ebc1588db587b",
   "outputs": [],
   "execution_count": 5
  },
  {
   "metadata": {},
   "cell_type": "markdown",
   "source": "**Average+Std of RMSE**",
   "id": "92b962f26a8d5a54"
  },
  {
   "metadata": {
    "ExecuteTime": {
     "end_time": "2024-10-01T15:22:06.676815Z",
     "start_time": "2024-10-01T15:22:06.670114Z"
    }
   },
   "cell_type": "code",
   "source": [
    "mean_rmse=mean_rmse.sort_values(by=['model', 'N', 'tau'])\n",
    "\n",
    "print(mean_rmse)"
   ],
   "id": "59cd6dd2095bd26b",
   "outputs": [
    {
     "name": "stdout",
     "output_type": "stream",
     "text": [
      "       N  model  tau  mean_rmse\n",
      "1   1000    CIP    1   0.876070\n",
      "8   1000    CIP    2   0.784933\n",
      "15  1000    CIP    3   1.290510\n",
      "5   1000    CRN    1   1.048962\n",
      "12  1000    CRN    2   1.088164\n",
      "19  1000    CRN    3   1.261688\n",
      "4   1000     CT    1   1.052179\n",
      "11  1000     CT    2   1.196452\n",
      "18  1000     CT    3   1.443722\n",
      "2   1000  G-Net    1   1.021147\n",
      "9   1000  G-Net    2   1.094910\n",
      "16  1000  G-Net    3   1.330485\n",
      "3   1000   RMSN    1   1.074731\n",
      "10  1000   RMSN    2   1.130425\n",
      "17  1000   RMSN    3   1.300072\n",
      "0   1000   SCIP    1   0.877420\n",
      "7   1000   SCIP    2   0.634490\n",
      "14  1000   SCIP    3   1.088738\n",
      "6   1000  TECDE    1   0.914668\n",
      "13  1000  TECDE    2   0.784385\n",
      "20  1000  TECDE    3   1.240180\n"
     ]
    }
   ],
   "execution_count": 6
  },
  {
   "metadata": {
    "ExecuteTime": {
     "end_time": "2024-10-01T15:22:13.399936Z",
     "start_time": "2024-10-01T15:22:13.393332Z"
    }
   },
   "cell_type": "code",
   "source": [
    "std_rmse=std_rmse.sort_values(by=['model', 'N', 'tau'])\n",
    "print(std_rmse)"
   ],
   "id": "6f98a7f6c5cdc60d",
   "outputs": [
    {
     "name": "stdout",
     "output_type": "stream",
     "text": [
      "       N  model  tau  std_rmse\n",
      "1   1000    CIP    1  0.041160\n",
      "8   1000    CIP    2  0.117706\n",
      "15  1000    CIP    3  0.400111\n",
      "5   1000    CRN    1  0.065349\n",
      "12  1000    CRN    2  0.373509\n",
      "19  1000    CRN    3  0.355270\n",
      "4   1000     CT    1  0.069604\n",
      "11  1000     CT    2  0.271673\n",
      "18  1000     CT    3  0.232394\n",
      "2   1000  G-Net    1  0.069251\n",
      "9   1000  G-Net    2  0.334973\n",
      "16  1000  G-Net    3  0.197988\n",
      "3   1000   RMSN    1  0.073751\n",
      "10  1000   RMSN    2  0.274091\n",
      "17  1000   RMSN    3  0.304116\n",
      "0   1000   SCIP    1  0.043958\n",
      "7   1000   SCIP    2  0.148533\n",
      "14  1000   SCIP    3  0.321945\n",
      "6   1000  TECDE    1  0.024673\n",
      "13  1000  TECDE    2  0.145148\n",
      "20  1000  TECDE    3  0.242178\n"
     ]
    }
   ],
   "execution_count": 8
  },
  {
   "metadata": {},
   "cell_type": "markdown",
   "source": "**5) Which model has the lowest RMSE?**",
   "id": "3443b47777877e71"
  },
  {
   "metadata": {
    "ExecuteTime": {
     "end_time": "2024-10-01T15:22:15.697822Z",
     "start_time": "2024-10-01T15:22:15.691115Z"
    }
   },
   "cell_type": "code",
   "source": [
    "# Which one has the lowest RMSE?\n",
    "sorted_df = mean_rmse.sort_values(by=['N', 'tau', 'mean_rmse'])\n",
    "\n",
    "# Get the second lowest 'mean_rmse' for each 'gamma'\n",
    "nth_lowest_rmse = sorted_df.groupby(['N', 'tau']).nth(0)\n",
    "\n",
    "# Extract the 'model' column from the result\n",
    "result = nth_lowest_rmse['model'].reset_index()\n",
    "\n",
    "print(result)"
   ],
   "id": "ba94be108f0e114e",
   "outputs": [
    {
     "name": "stdout",
     "output_type": "stream",
     "text": [
      "   index model\n",
      "0      1   CIP\n",
      "1      7  SCIP\n",
      "2     14  SCIP\n"
     ]
    }
   ],
   "execution_count": 9
  },
  {
   "metadata": {},
   "cell_type": "markdown",
   "source": "**6) Relative improvement of SCIP vs. others (not including CIP)**",
   "id": "90ac686bac13fbab"
  },
  {
   "metadata": {
    "ExecuteTime": {
     "end_time": "2024-10-01T15:22:18.506532Z",
     "start_time": "2024-10-01T15:22:18.497472Z"
    }
   },
   "cell_type": "code",
   "source": [
    "# minimum of \n",
    "non_SCIP_mean_rmse = mean_rmse[(mean_rmse['model'] != 'SCIP') & (mean_rmse['model'] != 'CIP')]\n",
    "min_non_SCIP_mean_rmse = non_SCIP_mean_rmse.groupby(['N','tau'])[['mean_rmse']].min()\n",
    "\n",
    "1 - np.array(mean_rmse[mean_rmse['model'] == 'SCIP']['mean_rmse']) / np.array(min_non_SCIP_mean_rmse['mean_rmse'])"
   ],
   "id": "64a566a7a64a2ed",
   "outputs": [
    {
     "data": {
      "text/plain": [
       "array([0.04072305, 0.19109817, 0.12211321])"
      ]
     },
     "execution_count": 10,
     "metadata": {},
     "output_type": "execute_result"
    }
   ],
   "execution_count": 10
  }
 ],
 "metadata": {
  "kernelspec": {
   "display_name": "Python 3",
   "language": "python",
   "name": "python3"
  },
  "language_info": {
   "codemirror_mode": {
    "name": "ipython",
    "version": 2
   },
   "file_extension": ".py",
   "mimetype": "text/x-python",
   "name": "python",
   "nbconvert_exporter": "python",
   "pygments_lexer": "ipython2",
   "version": "2.7.6"
  }
 },
 "nbformat": 4,
 "nbformat_minor": 5
}
